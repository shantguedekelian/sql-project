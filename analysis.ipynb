{
 "cells": [
  {
   "cell_type": "markdown",
   "id": "402dd716",
   "metadata": {},
   "source": [
    "# Analysis on AB test results using Python. I will conduct a hypothesis test to see if the conversion rate difference is significant"
   ]
  },
  {
   "cell_type": "code",
   "execution_count": 9,
   "id": "6c15f16a",
   "metadata": {},
   "outputs": [],
   "source": [
    "import pandas as pd\n",
    "import numpy as np\n",
    "import plotly.express as px\n",
    "from statsmodels.stats.proportion import proportions_ztest\n"
   ]
  },
  {
   "cell_type": "code",
   "execution_count": 2,
   "id": "ced3fdfa",
   "metadata": {},
   "outputs": [
    {
     "data": {
      "text/html": [
       "<div>\n",
       "<style scoped>\n",
       "    .dataframe tbody tr th:only-of-type {\n",
       "        vertical-align: middle;\n",
       "    }\n",
       "\n",
       "    .dataframe tbody tr th {\n",
       "        vertical-align: top;\n",
       "    }\n",
       "\n",
       "    .dataframe thead th {\n",
       "        text-align: right;\n",
       "    }\n",
       "</style>\n",
       "<table border=\"1\" class=\"dataframe\">\n",
       "  <thead>\n",
       "    <tr style=\"text-align: right;\">\n",
       "      <th></th>\n",
       "      <th>page_version</th>\n",
       "      <th>total_users</th>\n",
       "      <th>converted_users</th>\n",
       "      <th>conversion_rate</th>\n",
       "    </tr>\n",
       "  </thead>\n",
       "  <tbody>\n",
       "    <tr>\n",
       "      <th>0</th>\n",
       "      <td>A</td>\n",
       "      <td>494</td>\n",
       "      <td>156</td>\n",
       "      <td>0.3158</td>\n",
       "    </tr>\n",
       "    <tr>\n",
       "      <th>1</th>\n",
       "      <td>B</td>\n",
       "      <td>506</td>\n",
       "      <td>157</td>\n",
       "      <td>0.3103</td>\n",
       "    </tr>\n",
       "  </tbody>\n",
       "</table>\n",
       "</div>"
      ],
      "text/plain": [
       "  page_version  total_users  converted_users  conversion_rate\n",
       "0            A          494              156           0.3158\n",
       "1            B          506              157           0.3103"
      ]
     },
     "execution_count": 2,
     "metadata": {},
     "output_type": "execute_result"
    }
   ],
   "source": [
    "df = pd.read_csv('files/ab_test_results.csv')\n",
    "\n",
    "df\n"
   ]
  },
  {
   "cell_type": "code",
   "execution_count": 12,
   "id": "7ca852d3",
   "metadata": {},
   "outputs": [
    {
     "name": "stdout",
     "output_type": "stream",
     "text": [
      "|    | page_version   |   total_users |   converted_users |   conversion_rate |\n",
      "|---:|:---------------|--------------:|------------------:|------------------:|\n",
      "|  0 | A              |           494 |               156 |            0.3158 |\n",
      "|  1 | B              |           506 |               157 |            0.3103 |\n"
     ]
    }
   ],
   "source": [
    "print(df.to_markdown())"
   ]
  },
  {
   "cell_type": "markdown",
   "id": "80fde0cb",
   "metadata": {},
   "source": [
    "Visualizations of the results"
   ]
  },
  {
   "cell_type": "code",
   "execution_count": null,
   "id": "d9c66d15",
   "metadata": {},
   "outputs": [],
   "source": [
    "vis = px.bar(df, x='page_version', y='conversion_rate', labels={\n",
    "        'page_version': 'Page Version',\n",
    "        'conversion_rate': 'Conversion Rate (%)'\n",
    "        },\n",
    "        title=\"Conversion Rate by Page Version\"\n",
    "    )\n",
    "\n",
    "vis.show()"
   ]
  },
  {
   "cell_type": "code",
   "execution_count": 22,
   "id": "8188a15d",
   "metadata": {},
   "outputs": [],
   "source": [
    "vis.write_html('test.html')"
   ]
  },
  {
   "cell_type": "markdown",
   "id": "964769a4",
   "metadata": {},
   "source": [
    "Lets check if this difference is statistically significant by conducating a hypothesis test.\n",
    "\n",
    "Null Hypothesis (H₀): The conversion rates are the same for A and B (no effect).\n",
    "\n",
    "Alternative Hypothesis (H₁): The conversion rates are different (or one is higher).\n",
    "\n",
    "Conducting a z-test "
   ]
  },
  {
   "cell_type": "code",
   "execution_count": 6,
   "id": "9c423f9a",
   "metadata": {},
   "outputs": [
    {
     "data": {
      "text/plain": [
       "np.int64(157)"
      ]
     },
     "execution_count": 6,
     "metadata": {},
     "output_type": "execute_result"
    }
   ],
   "source": [
    "n_A, x_A, n_B, x_B = df['total_users'][0], df['converted_users'][0], df['total_users'][1], df['converted_users'][1]\n",
    "\n",
    "x_B\n"
   ]
  },
  {
   "cell_type": "code",
   "execution_count": 13,
   "id": "8ac091f9",
   "metadata": {},
   "outputs": [
    {
     "data": {
      "image/png": "[encoded data removed]",
      "text/plain": [
       "<Figure size 640x480 with 1 Axes>"
      ]
     },
     "metadata": {},
     "output_type": "display_data"
    }
   ],
   "source": [
    "import matplotlib.pyplot as plt\n",
    "\n",
    "labels = ['Group A', 'Group B']\n",
    "conversion_rates = [x_A/n_A, x_B/n_B]\n",
    "\n",
    "plt.bar(labels, conversion_rates, color=['skyblue', 'orange'])\n",
    "plt.title(\"Conversion Rates by Group\")\n",
    "plt.ylabel(\"Conversion Rate\")\n",
    "plt.show()"
   ]
  },
  {
   "cell_type": "markdown",
   "id": "c7aedb71",
   "metadata": {},
   "source": [
    "p = (x_A + x_B) / (n_A + n_B):\n",
    "\n",
    "is the pooled proportion under the null hypothesis.\n",
    "\n",
    "Reason:\n",
    "\n",
    "We pool because under H₀, both groups share the same conversion probability.\n",
    "\n",
    "The denominator adjusts for variability from both groups (standard error)."
   ]
  },
  {
   "cell_type": "code",
   "execution_count": 10,
   "id": "ba6f2d13",
   "metadata": {},
   "outputs": [
    {
     "name": "stdout",
     "output_type": "stream",
     "text": [
      "z-statistic: 0.18795762442489528\n",
      "p-value: 0.8509098698735538\n",
      "Not significant. No strong evidence of a difference.\n"
     ]
    }
   ],
   "source": [
    "# Data\n",
    "successes = [x_A, x_B]\n",
    "samples = [n_A, n_B]\n",
    "\n",
    "# Perform two-proportion z-test\n",
    "z_stat, p_val = proportions_ztest(successes, samples)\n",
    "\n",
    "print(\"z-statistic:\", z_stat)\n",
    "print(\"p-value:\", p_val)\n",
    "\n",
    "# Interpretation\n",
    "if p_val < 0.05:\n",
    "    print(\"Significant! There's evidence of a difference in conversion rates.\")\n",
    "else:\n",
    "    print(\"Not significant. No strong evidence of a difference.\")"
   ]
  },
  {
   "cell_type": "markdown",
   "id": "7c0bfc93",
   "metadata": {},
   "source": [
    "There is no significant difference between the two check out pages."
   ]
  },
  {
   "cell_type": "markdown",
   "id": "d22c7ac7",
   "metadata": {},
   "source": []
  }
 ],
 "metadata": {
  "kernelspec": {
   "display_name": "dsc80",
   "language": "python",
   "name": "python3"
  },
  "language_info": {
   "codemirror_mode": {
    "name": "ipython",
    "version": 3
   },
   "file_extension": ".py",
   "mimetype": "text/x-python",
   "name": "python",
   "nbconvert_exporter": "python",
   "pygments_lexer": "ipython3",
   "version": "3.12.10"
  }
 },
 "nbformat": 4,
 "nbformat_minor": 5
}
